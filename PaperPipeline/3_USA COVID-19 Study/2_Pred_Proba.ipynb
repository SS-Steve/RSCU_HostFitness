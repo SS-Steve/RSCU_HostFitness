{
 "cells": [
  {
   "cell_type": "code",
   "execution_count": null,
   "metadata": {},
   "outputs": [],
   "source": [
    "### Import packages\n",
    "import pandas as pd\n",
    "import numpy as np\n",
    "from Utils import ss_utils as ss \n",
    "from Utils import ss_database as db"
   ]
  },
  {
   "attachments": {},
   "cell_type": "markdown",
   "metadata": {},
   "source": [
    "### 1. Pred_Proba for human Host"
   ]
  },
  {
   "cell_type": "code",
   "execution_count": null,
   "metadata": {},
   "outputs": [],
   "source": [
    "# Load Ready-to-go (RTG) data of RSCU, TAXONOMY and CDS_LENGTH\n",
    "COVID_RSCU = pd.read_csv(f\"RTG_Data//COVID19_US//RSCU.csv\")\n",
    "COVID_TAXONOMY = pd.read_csv(f\"RTG_Data//COVID19_US//TAXONOMY.csv\")\n",
    "COVID_CDS_LENGTH = pd.read_csv(f\"RTG_Data//COVID19_US//CDS_LENGTH.csv\")\n",
    "\n",
    "# Load trained recall-optimised models\n",
    "Model = ss.database_load(f\"Models//RF_model_RSCUpTAXONOMYpCDS_LENGTH_human_forRecall\", 'Output')\n",
    "\n",
    "# Prepare X\n",
    "X = pd.concat([COVID_RSCU, COVID_TAXONOMY, COVID_CDS_LENGTH], axis=1)\n",
    "\n",
    "# Calculate Pred_Proba\n",
    "Pred_Proba = Model.predict_proba(X)\n",
    "y_test = Model.predict(X)\n",
    "y_true = [1] * X.shape[0]\n",
    "\n",
    "# Organise into dataframe and save\n",
    "DF_Pred_Proba = pd.DataFrame(Pred_Proba)\n",
    "DF_Pred_Proba = DF_Pred_Proba.rename(columns={0:'not_human', 1:'human'})\n",
    "DF_Pred_Proba['y_true'] = y_true\n",
    "DF_Pred_Proba['y_test'] = y_test\n",
    "\n",
    "ss.save_file(DF_Pred_Proba, 'COVID19//DF_Pred_Proba_RLT_Recall')\n",
    "\n",
    "\n",
    "# Load trained BA-optimised models\n",
    "Model = ss.database_load(f\"Models//RF_model_RSCUpTAXONOMYpCDS_LENGTH_human_forBA\", 'Output')\n",
    "\n",
    "# Prepare X\n",
    "X = pd.concat([COVID_RSCU, COVID_TAXONOMY, COVID_CDS_LENGTH], axis=1)\n",
    "\n",
    "# Calculate Pred_Proba\n",
    "Pred_Proba = Model.predict_proba(X)\n",
    "y_test = Model.predict(X)\n",
    "y_true = [1] * X.shape[0]\n",
    "\n",
    "# Organise into dataframe and save\n",
    "DF_Pred_Proba = pd.DataFrame(Pred_Proba)\n",
    "DF_Pred_Proba = DF_Pred_Proba.rename(columns={0:'not_human', 1:'human'})\n",
    "DF_Pred_Proba['y_true'] = y_true\n",
    "DF_Pred_Proba['y_test'] = y_test\n",
    "\n",
    "ss.save_file(DF_Pred_Proba, 'COVID19//DF_Pred_Proba_RLT_BA')"
   ]
  },
  {
   "attachments": {},
   "cell_type": "markdown",
   "metadata": {},
   "source": [
    "### 2. Pred_Proba for all the Host"
   ]
  },
  {
   "cell_type": "code",
   "execution_count": null,
   "metadata": {},
   "outputs": [],
   "source": [
    "# Load Ready-to-go (RTG) data of RSCU, TAXONOMY and CDS_LENGTH\n",
    "COVID_RSCU = pd.read_csv(f\"/RTG_Data//COVID19_US//RSCU.csv\")\n",
    "COVID_TAXONOMY = pd.read_csv(f\"RTG_Data//COVID19_US//TAXONOMY.csv\")\n",
    "COVID_CDS_LENGTH = pd.read_csv(f\"RTG_Data//COVID19_US//CDS_LENGTH.csv\")\n",
    "\n",
    "\n",
    "Dataset_List = ['RSCU', 'RSCUpTAXONOMYpCDS_LENGTH']\n",
    "Optimised_Score_List = ['BA', 'Recall']\n",
    "Host_List = ['human', 'vertebrates', 'invertebrates', 'land plants', 'bacteria']\n",
    "\n",
    "for Dataset in Dataset_List:\n",
    "    \n",
    "    if Dataset == 'RSCU':\n",
    "        X = pd.concat([COVID_RSCU], axis=1)\n",
    "    else:\n",
    "        X = pd.concat([COVID_RSCU, COVID_TAXONOMY, COVID_CDS_LENGTH], axis=1)\n",
    "    \n",
    "    for Optimised_Score in Optimised_Score_List:\n",
    "        \n",
    "        df_Pred_Proba = pd.DataFrame()\n",
    "        \n",
    "        for Host in Host_List:\n",
    "            \n",
    "            Model = ss.database_load(\n",
    "                f\"Models//{Dataset}_for{Optimised_Score}//RF_model_{Dataset}_{Host}\", \n",
    "                'Output')\n",
    "\n",
    "            Pred_Proba = Model.predict_proba(X)\n",
    "            df_Pred_Proba_t = pd.DataFrame(Pred_Proba)\n",
    "            \n",
    "            df_Pred_Proba[Host] = df_Pred_Proba_t[1]\n",
    "            \n",
    "            Model = None\n",
    "            \n",
    "        ss.save_file(df_Pred_Proba, \n",
    "                     f\"{Dataset}_COVID19_US_Pred_Proba_Hosts_for{Optimised_Score}\")"
   ]
  },
  {
   "cell_type": "code",
   "execution_count": null,
   "metadata": {},
   "outputs": [],
   "source": []
  },
  {
   "cell_type": "code",
   "execution_count": null,
   "metadata": {},
   "outputs": [],
   "source": []
  }
 ],
 "metadata": {
  "language_info": {
   "name": "python"
  },
  "orig_nbformat": 4
 },
 "nbformat": 4,
 "nbformat_minor": 2
}

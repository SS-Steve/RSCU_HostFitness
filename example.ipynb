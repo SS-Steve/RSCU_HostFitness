{
 "cells": [
  {
   "cell_type": "code",
   "execution_count": 1,
   "metadata": {},
   "outputs": [],
   "source": [
    "# Import dependencies\n",
    "import numpy as np\n",
    "import pandas as pd\n",
    "import sklearn\n",
    "import pickle\n",
    "\n",
    "# Turn off warning\n",
    "import warnings \n",
    "warnings.filterwarnings(\"ignore\")"
   ]
  },
  {
   "cell_type": "code",
   "execution_count": 45,
   "metadata": {},
   "outputs": [
    {
     "name": "stdout",
     "output_type": "stream",
     "text": [
      "Target virus: Severe acute respiratory syndrome coronavirus 2\n",
      "\n",
      "[dRTC] Predicted probablity in human = 0.9924528301886792\n",
      "[dRTC] Predicted probablity in vertebrates = 0.9929824561403509\n",
      "[dRTC] Predicted probablity in invertebrates = 0.049019607843137254\n",
      "[dRTC] Predicted probablity in land plants = 0.015\n",
      "[dRTC] Predicted probablity in bacteria = 0.0026702269692923898\n"
     ]
    }
   ],
   "source": [
    "model_folder = f\"models\"\n",
    "model_info = [\n",
    "\n",
    "    ['human', 'RTC', 'Recall'],\n",
    "    ['vertebrates', 'RTC', 'Recall'],\n",
    "    ['invertebrates', 'RTC', 'Recall'],\n",
    "    ['land plants', 'RTC', 'Recall'],\n",
    "    ['bacteria', 'RTC', 'Recall'],\n",
    "\n",
    "]\n",
    "\n",
    "for ind, (host, dataset, score) in enumerate(model_info):\n",
    "\n",
    "    filename = f\"RF_d{dataset}_{score}_{host}.pickle\"\n",
    "\n",
    "    # Load model\n",
    "    with open(f\"{model_folder}//{filename}\", 'rb') as f:\n",
    "        model = pickle.load(f)\n",
    "    f.close()\n",
    "\n",
    "    model_info[ind].append(model)\n",
    "\n",
    "# Load all input data\n",
    "INFO = pd.read_csv(f\"RTG_Data//INFO.csv\", index_col=0)\n",
    "RSCU = pd.read_csv(f\"RTG_Data//RSCU.csv\", index_col=0)\n",
    "HOST = pd.read_csv(f\"RTG_Data//HOST.csv\", index_col=0)\n",
    "CDS_LENGTH = pd.read_csv(f\"RTG_Data//CDS_LENGTH.csv\", index_col=0)\n",
    "TAXONOMY = pd.read_csv(f\"RTG_Data//TAXONOMY.csv\", index_col=0)\n",
    "\n",
    "# Find the index of SARS-CoV-2\n",
    "ind = int(INFO[INFO['id'] == 'Severe acute respiratory syndrome coronavirus 2'].index[0])\n",
    "name = INFO.loc[ind]['id']\n",
    "\n",
    "# Input data\n",
    "X_dRTC = np.array([RSCU.loc[ind].tolist() + TAXONOMY.loc[ind].tolist() + CDS_LENGTH.loc[ind].tolist()])\n",
    "\n",
    "# Predict predicted codon fitness\n",
    "print (f\"Target virus: {name}\\n\")\n",
    "for _, (host, dataset, score, model) in enumerate(model_info):\n",
    "\n",
    "    if dataset == 'R':\n",
    "        pred_prob = model.predict_proba(X_dR)[0][1]\n",
    "        print (f\"[dR] Predicted probablity in {host} = {pred_prob}\")\n",
    "    elif dataset == 'RTC':\n",
    "        pred_prob = model.predict_proba(X_dRTC)[0][1]\n",
    "        print (f\"[dRTC] Predicted probablity in {host} = {pred_prob}\")"
   ]
  },
  {
   "cell_type": "code",
   "execution_count": null,
   "metadata": {},
   "outputs": [],
   "source": []
  },
  {
   "cell_type": "code",
   "execution_count": null,
   "metadata": {},
   "outputs": [],
   "source": []
  },
  {
   "cell_type": "code",
   "execution_count": null,
   "metadata": {},
   "outputs": [],
   "source": []
  },
  {
   "cell_type": "code",
   "execution_count": null,
   "metadata": {},
   "outputs": [],
   "source": []
  }
 ],
 "metadata": {
  "kernelspec": {
   "display_name": "base",
   "language": "python",
   "name": "python3"
  },
  "language_info": {
   "codemirror_mode": {
    "name": "ipython",
    "version": 3
   },
   "file_extension": ".py",
   "mimetype": "text/x-python",
   "name": "python",
   "nbconvert_exporter": "python",
   "pygments_lexer": "ipython3",
   "version": "3.9.12"
  }
 },
 "nbformat": 4,
 "nbformat_minor": 2
}
